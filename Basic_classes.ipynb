{
  "nbformat": 4,
  "nbformat_minor": 0,
  "metadata": {
    "colab": {
      "provenance": []
    },
    "kernelspec": {
      "name": "python3",
      "display_name": "Python 3"
    },
    "language_info": {
      "name": "python"
    }
  },
  "cells": [
    {
      "cell_type": "markdown",
      "source": [
        "This is the document where I tryed some basic functions to understand the OOP consepts."
      ],
      "metadata": {
        "id": "qIPhQ_B7KdBK"
      }
    },
    {
      "cell_type": "markdown",
      "source": [
        "![image.png](data:image/png;base64,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)"
      ],
      "metadata": {
        "id": "nWKktZzULEia"
      }
    },
    {
      "cell_type": "code",
      "execution_count": 34,
      "metadata": {
        "id": "y_b_E9SiFKuA"
      },
      "outputs": [],
      "source": [
        "class Rectangle:\n",
        "  \"\"\"\n",
        "  This is my class to represent a rectangle. Meow.\n",
        "  \"\"\"\n",
        "  __doc__ = \"The description costs $5.99.\"\n",
        "  #corner = tuple()\n",
        "  #width = None\n",
        "  #height = None or length\n",
        "  #area = None\n",
        "\n",
        "  def __init__(self, corner = (0,0), width = 0, height = 0):\n",
        "    self.corner = corner\n",
        "    self.width = width\n",
        "    self.height = height\n",
        "    print(\"I built you a rectangle at \" + str(corner) + \" with width \" + str(width))\n",
        "\n",
        "\n",
        "\n",
        "  def get_area(self):\n",
        "    return self.width*self.height"
      ]
    },
    {
      "cell_type": "code",
      "source": [
        "Rectangle.__doc__"
      ],
      "metadata": {
        "colab": {
          "base_uri": "https://localhost:8080/",
          "height": 36
        },
        "id": "n47Sg6zWL1DO",
        "outputId": "5d7069a5-e295-422d-9c1a-1222a886cf85"
      },
      "execution_count": 35,
      "outputs": [
        {
          "output_type": "execute_result",
          "data": {
            "text/plain": [
              "'The description costs $5.99.'"
            ],
            "application/vnd.google.colaboratory.intrinsic+json": {
              "type": "string"
            }
          },
          "metadata": {},
          "execution_count": 35
        }
      ]
    },
    {
      "cell_type": "code",
      "source": [
        "v = Rectangle( (1,2))"
      ],
      "metadata": {
        "colab": {
          "base_uri": "https://localhost:8080/"
        },
        "id": "R2u21j9ZKWNr",
        "outputId": "9868c750-6ff4-4f1e-b4c6-9035cd3e0e48"
      },
      "execution_count": 36,
      "outputs": [
        {
          "output_type": "stream",
          "name": "stdout",
          "text": [
            "I built you a rectangle at (1, 2) with width 0\n"
          ]
        }
      ]
    },
    {
      "cell_type": "code",
      "source": [
        "w=v"
      ],
      "metadata": {
        "id": "pq3LMevpLMMT"
      },
      "execution_count": 37,
      "outputs": []
    },
    {
      "cell_type": "markdown",
      "source": [
        "Oblects w and v are located in the same memory unit."
      ],
      "metadata": {
        "id": "sTmfJS89LZq3"
      }
    },
    {
      "cell_type": "code",
      "source": [
        "id(w)"
      ],
      "metadata": {
        "colab": {
          "base_uri": "https://localhost:8080/"
        },
        "id": "EgZIh259LP2P",
        "outputId": "fdbf1cf7-5cd6-4c5f-b0c1-b5de190fbc2b"
      },
      "execution_count": 38,
      "outputs": [
        {
          "output_type": "execute_result",
          "data": {
            "text/plain": [
              "136368315575136"
            ]
          },
          "metadata": {},
          "execution_count": 38
        }
      ]
    },
    {
      "cell_type": "code",
      "source": [
        "id(v)"
      ],
      "metadata": {
        "colab": {
          "base_uri": "https://localhost:8080/"
        },
        "id": "Mred-qm1K7sN",
        "outputId": "9d81f1eb-1791-4d1b-da29-d4f7b59b6e3f"
      },
      "execution_count": 39,
      "outputs": [
        {
          "output_type": "execute_result",
          "data": {
            "text/plain": [
              "136368315575136"
            ]
          },
          "metadata": {},
          "execution_count": 39
        }
      ]
    },
    {
      "cell_type": "code",
      "source": [
        "v.corner"
      ],
      "metadata": {
        "colab": {
          "base_uri": "https://localhost:8080/"
        },
        "id": "eqcobdkUKgbq",
        "outputId": "8ace6c09-f967-4df8-f5b6-a95624fc39f0"
      },
      "execution_count": 40,
      "outputs": [
        {
          "output_type": "execute_result",
          "data": {
            "text/plain": [
              "(1, 2)"
            ]
          },
          "metadata": {},
          "execution_count": 40
        }
      ]
    },
    {
      "cell_type": "code",
      "source": [
        "v.width"
      ],
      "metadata": {
        "colab": {
          "base_uri": "https://localhost:8080/"
        },
        "id": "nF2aki23KkGY",
        "outputId": "4cb594b9-cac5-4bae-9d4d-dc11bee6fe90"
      },
      "execution_count": 41,
      "outputs": [
        {
          "output_type": "execute_result",
          "data": {
            "text/plain": [
              "0"
            ]
          },
          "metadata": {},
          "execution_count": 41
        }
      ]
    },
    {
      "cell_type": "code",
      "source": [
        "x = Rectangle ( (2,3), 3,2 )"
      ],
      "metadata": {
        "id": "3zTBTkLEGTRy",
        "colab": {
          "base_uri": "https://localhost:8080/"
        },
        "outputId": "11ae652d-5c00-44d2-f721-2c66ccf69ba5"
      },
      "execution_count": 42,
      "outputs": [
        {
          "output_type": "stream",
          "name": "stdout",
          "text": [
            "I built you a rectangle at (2, 3) with width 3\n"
          ]
        }
      ]
    },
    {
      "cell_type": "code",
      "source": [
        "x.corner"
      ],
      "metadata": {
        "colab": {
          "base_uri": "https://localhost:8080/"
        },
        "id": "Bl9k1VhmGZ3e",
        "outputId": "0092e955-c5c1-4037-bbdc-fc8218f5c38d"
      },
      "execution_count": 43,
      "outputs": [
        {
          "output_type": "execute_result",
          "data": {
            "text/plain": [
              "(2, 3)"
            ]
          },
          "metadata": {},
          "execution_count": 43
        }
      ]
    },
    {
      "cell_type": "code",
      "source": [
        "x.Dasha = \"Is a girl\""
      ],
      "metadata": {
        "id": "KcK8MCY7KFEM"
      },
      "execution_count": 44,
      "outputs": []
    },
    {
      "cell_type": "code",
      "source": [
        "x.Dasha"
      ],
      "metadata": {
        "colab": {
          "base_uri": "https://localhost:8080/",
          "height": 36
        },
        "id": "0bCD2QLwKHyc",
        "outputId": "ebccd062-d9b5-4256-9edf-1148b67edbb5"
      },
      "execution_count": 45,
      "outputs": [
        {
          "output_type": "execute_result",
          "data": {
            "text/plain": [
              "'Is a girl'"
            ],
            "application/vnd.google.colaboratory.intrinsic+json": {
              "type": "string"
            }
          },
          "metadata": {},
          "execution_count": 45
        }
      ]
    },
    {
      "cell_type": "code",
      "source": [
        "x.width"
      ],
      "metadata": {
        "colab": {
          "base_uri": "https://localhost:8080/"
        },
        "id": "EDd6Fb8RGd0u",
        "outputId": "42f2236b-5774-481b-e57e-28eaf4da3ea2"
      },
      "execution_count": 46,
      "outputs": [
        {
          "output_type": "execute_result",
          "data": {
            "text/plain": [
              "3"
            ]
          },
          "metadata": {},
          "execution_count": 46
        }
      ]
    },
    {
      "cell_type": "code",
      "source": [
        "x.get_area()"
      ],
      "metadata": {
        "colab": {
          "base_uri": "https://localhost:8080/"
        },
        "id": "EbgOEgF7HXtR",
        "outputId": "c63c9d4c-0675-407a-ce4c-fcf140ab10cc"
      },
      "execution_count": 47,
      "outputs": [
        {
          "output_type": "execute_result",
          "data": {
            "text/plain": [
              "6"
            ]
          },
          "metadata": {},
          "execution_count": 47
        }
      ]
    },
    {
      "cell_type": "code",
      "source": [
        "x.width = 4"
      ],
      "metadata": {
        "id": "AVmiq3tBHp3n"
      },
      "execution_count": 48,
      "outputs": []
    },
    {
      "cell_type": "code",
      "source": [
        "x.get_area()"
      ],
      "metadata": {
        "colab": {
          "base_uri": "https://localhost:8080/"
        },
        "id": "ADkGyKUNHsSA",
        "outputId": "13970842-8f43-497c-927c-d67d7197788a"
      },
      "execution_count": 49,
      "outputs": [
        {
          "output_type": "execute_result",
          "data": {
            "text/plain": [
              "8"
            ]
          },
          "metadata": {},
          "execution_count": 49
        }
      ]
    },
    {
      "cell_type": "code",
      "source": [
        "y = Rectangle ( (2,3), 2, 2)"
      ],
      "metadata": {
        "id": "dRUvuGbDGqxl",
        "colab": {
          "base_uri": "https://localhost:8080/"
        },
        "outputId": "3f59b76e-17db-441f-f877-68ceebe5ab6b"
      },
      "execution_count": 50,
      "outputs": [
        {
          "output_type": "stream",
          "name": "stdout",
          "text": [
            "I built you a rectangle at (2, 3) with width 2\n"
          ]
        }
      ]
    },
    {
      "cell_type": "code",
      "source": [
        "y.width"
      ],
      "metadata": {
        "colab": {
          "base_uri": "https://localhost:8080/"
        },
        "id": "X74XNNniGt8I",
        "outputId": "5ba320a7-8bb0-4149-e576-fbdab3aa7034"
      },
      "execution_count": 51,
      "outputs": [
        {
          "output_type": "execute_result",
          "data": {
            "text/plain": [
              "2"
            ]
          },
          "metadata": {},
          "execution_count": 51
        }
      ]
    },
    {
      "cell_type": "code",
      "source": [
        "z = Rectangle((2,3), 1, 2)"
      ],
      "metadata": {
        "id": "t-84Flb4G-Mw",
        "colab": {
          "base_uri": "https://localhost:8080/"
        },
        "outputId": "45bb71a5-e51c-4d94-d470-6a1b14df83a3"
      },
      "execution_count": 52,
      "outputs": [
        {
          "output_type": "stream",
          "name": "stdout",
          "text": [
            "I built you a rectangle at (2, 3) with width 1\n"
          ]
        }
      ]
    },
    {
      "cell_type": "code",
      "source": [
        "print(z.width, z.height, z.get_area())"
      ],
      "metadata": {
        "colab": {
          "base_uri": "https://localhost:8080/"
        },
        "id": "WS6-pNRNHAmv",
        "outputId": "21de5b7e-64fb-48bf-e6b7-4cb86d236ff3"
      },
      "execution_count": 53,
      "outputs": [
        {
          "output_type": "stream",
          "name": "stdout",
          "text": [
            "1 2 2\n"
          ]
        }
      ]
    },
    {
      "cell_type": "code",
      "source": [
        "def add_complex(a, b):\n",
        "  return a+b\n",
        "\n",
        "class ComplexNumber:\n",
        "  real = 0.0\n",
        "  imaginary = 0.0\n",
        "\n",
        "  def __init__(self, r, i):\n",
        "    self.real = r\n",
        "    self.imaginary = i\n",
        "\n",
        "  def IncreaseBy(self, other_complex_number):\n",
        "    self.real = self.real + other_complex_number.real\n",
        "    self.imaginary = self.imaginary + other_complex_number.imaginary"
      ],
      "metadata": {
        "id": "3hMsipE0HyRZ"
      },
      "execution_count": 54,
      "outputs": []
    },
    {
      "cell_type": "code",
      "source": [
        "a = ComplexNumber(2,3)"
      ],
      "metadata": {
        "id": "vciZhqK_IMqe"
      },
      "execution_count": 55,
      "outputs": []
    },
    {
      "cell_type": "code",
      "source": [
        "print(a.real, a.imaginary)"
      ],
      "metadata": {
        "colab": {
          "base_uri": "https://localhost:8080/"
        },
        "id": "CGYFfQk5IPSG",
        "outputId": "19980c87-d51e-4bd6-adc2-677909dccbdf"
      },
      "execution_count": 56,
      "outputs": [
        {
          "output_type": "stream",
          "name": "stdout",
          "text": [
            "2 3\n"
          ]
        }
      ]
    },
    {
      "cell_type": "code",
      "source": [
        "a= ComplexNumber(2,3)\n",
        "b= ComplexNumber(1,1)\n",
        "a.IncreaseBy(b)\n",
        "print(a.real, a.imaginary)"
      ],
      "metadata": {
        "colab": {
          "base_uri": "https://localhost:8080/"
        },
        "id": "UMoZKl8AIaKp",
        "outputId": "af5b22b7-6b8a-4879-9a86-f7552992a507"
      },
      "execution_count": 57,
      "outputs": [
        {
          "output_type": "stream",
          "name": "stdout",
          "text": [
            "3 4\n"
          ]
        }
      ]
    }
  ]
}